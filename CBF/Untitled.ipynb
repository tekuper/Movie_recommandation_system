{
 "cells": [
  {
   "cell_type": "code",
   "execution_count": 1,
   "id": "ca1b3e91-769b-4aa8-89c6-897d50c59302",
   "metadata": {},
   "outputs": [
    {
     "name": "stdout",
     "output_type": "stream",
     "text": [
      "Merged data saved to 'merged_movies_tags.csv'\n"
     ]
    }
   ],
   "source": [
    "import pandas as pd\n",
    "\n",
    "# Load the two CSV files\n",
    "movies = pd.read_csv(r'C:\\Users\\User\\Desktop\\projet recommendation\\CBF\\movies.csv')   # Replace with the path to your movies.csv file\n",
    "tags = pd.read_csv(r'C:\\Users\\User\\Desktop\\projet recommendation\\CBF\\tags.csv')       # Replace with the path to your tags.csv file\n",
    "\n",
    "# Merge the datasets on 'movieId'\n",
    "merged_data = pd.merge(movies, tags, on='movieId', how='left')\n",
    "\n",
    "# Save the merged dataset to a new CSV file\n",
    "merged_data.to_csv('merged_movies_tags.csv', index=False)\n",
    "\n",
    "print(\"Merged data saved to 'merged_movies_tags.csv'\")\n"
   ]
  },
  {
   "cell_type": "code",
   "execution_count": 3,
   "id": "230cfe05-ea2b-4218-8b63-4672fbcd37f8",
   "metadata": {},
   "outputs": [],
   "source": [
    "df=pd.read_csv(\"merged_movies_tags.csv\")\n",
    "df['readable_date'] = pd.to_datetime(df['timestamp'], unit='s')"
   ]
  },
  {
   "cell_type": "code",
   "execution_count": null,
   "id": "e259730a-7c8e-4911-af7b-a1505a3f9f88",
   "metadata": {},
   "outputs": [],
   "source": []
  }
 ],
 "metadata": {
  "kernelspec": {
   "display_name": "Python 3 (ipykernel)",
   "language": "python",
   "name": "python3"
  },
  "language_info": {
   "codemirror_mode": {
    "name": "ipython",
    "version": 3
   },
   "file_extension": ".py",
   "mimetype": "text/x-python",
   "name": "python",
   "nbconvert_exporter": "python",
   "pygments_lexer": "ipython3",
   "version": "3.12.4"
  }
 },
 "nbformat": 4,
 "nbformat_minor": 5
}
